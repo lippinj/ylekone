{
 "cells": [
  {
   "cell_type": "code",
   "execution_count": 1,
   "id": "c6fa04b5-7871-4ce6-9b5e-e1043648d8dd",
   "metadata": {},
   "outputs": [],
   "source": [
    "from collections import defaultdict\n",
    "from pathlib import Path\n",
    "import ylekone"
   ]
  },
  {
   "cell_type": "code",
   "execution_count": 2,
   "id": "cff4e77d-79e9-4316-a76d-2ef17a9af617",
   "metadata": {},
   "outputs": [],
   "source": [
    "class Stats:\n",
    "    # Don't bother showing counts of less than this\n",
    "    THRESHOLD = 0\n",
    "    \n",
    "    def __init__(self):\n",
    "        self._total = 0\n",
    "        self._data = defaultdict(lambda: 0)\n",
    "        self._langs = defaultdict(lambda: 0)\n",
    "        self._parties = defaultdict(lambda: 0)\n",
    "\n",
    "    @property\n",
    "    def parties(self):\n",
    "        return Stats._keys_by_count(self._parties, self.THRESHOLD)\n",
    "\n",
    "    @property\n",
    "    def languages(self):\n",
    "        return Stats._keys_by_count(self._langs, self.THRESHOLD)\n",
    "        \n",
    "    def add(self, party, lang):\n",
    "        self._total += 1\n",
    "        self._data[f\"{party}:{lang}\"] += 1\n",
    "        self._langs[lang] += 1\n",
    "        self._parties[party] += 1\n",
    "\n",
    "    def get(self, party, lang):\n",
    "        return self._data.get(f\"{party}:{lang}\", 0)\n",
    "\n",
    "    @staticmethod\n",
    "    def _keys_by_count(d, threshold):\n",
    "        d = [(v, k) for k, v in d.items() if v > threshold]\n",
    "        d = sorted(d)[::-1]\n",
    "        return [k for v, k in d]"
   ]
  },
  {
   "cell_type": "code",
   "execution_count": 3,
   "id": "5c9abcca-3d91-4278-bf5e-4909498e0f6b",
   "metadata": {},
   "outputs": [],
   "source": [
    "def append_stats(stats, constituency):\n",
    "    for candidate in constituency.candidates:\n",
    "        if candidate.party is not None:        \n",
    "            stats.add(candidate.party.abbreviation, candidate.language)\n",
    "        else:\n",
    "            stats.add(\"??\", candidate.language)\n",
    "\n",
    "def cstats(constituency):\n",
    "    stats = Stats()\n",
    "    append_stats(stats, constituency)\n",
    "    return stats\n",
    "\n",
    "def astats(constituencies):\n",
    "    stats = Stats()\n",
    "    for constituency in constituencies:\n",
    "        append_stats(stats, constituency)\n",
    "    return stats"
   ]
  },
  {
   "cell_type": "code",
   "execution_count": 4,
   "id": "1206a57b-2100-4059-bcd3-d630a3409d79",
   "metadata": {},
   "outputs": [],
   "source": [
    "def mktable(stats):\n",
    "    s = \"\"\n",
    "    langs = stats.languages\n",
    "    parties = stats.parties\n",
    "    s += \" \" * 8\n",
    "    for lang in langs:\n",
    "        s += f\"{lang:>16}\"\n",
    "    s += \"\\n\"\n",
    "    for party in parties:\n",
    "        s += f\"{party:>8}\"\n",
    "        for lang in langs:\n",
    "            s += f\"{stats.get(party, lang):>16}\"\n",
    "        s += \"\\n\"\n",
    "    return s"
   ]
  },
  {
   "cell_type": "code",
   "execution_count": 5,
   "id": "a3163a8c-5582-4534-9293-0945f179ad86",
   "metadata": {},
   "outputs": [],
   "source": [
    "def wmd(name, stats, outfile):\n",
    "    outfile = Path(outfile)\n",
    "    outfile.parent.mkdir(exist_ok=True)\n",
    "    with open(outfile, \"w\", encoding=\"utf-8\") as f:\n",
    "        f.write(f\"# Ehdokkaiden kielet, {name}\\n\\n\")\n",
    "        f.write(f\"| |yhteensä|\")\n",
    "        for lang in stats.languages:\n",
    "            f.write(f\"{lang}|\")\n",
    "        f.write(f\"\\n\")\n",
    "        \n",
    "        f.write(f\"|:---:|:---:|\")\n",
    "        for lang in stats.languages:\n",
    "            f.write(f\":---:|\")\n",
    "        f.write(f\"\\n\")\n",
    "        \n",
    "        f.write(f\"|Yhteensä|\")\n",
    "        f.write(f\"{stats._total}|\")\n",
    "        for lang in stats.languages:\n",
    "            count = stats._langs[lang]\n",
    "            pct = 100 * count / stats._total\n",
    "            if count == 0:\n",
    "                f.write(f\"{count}|\")\n",
    "            elif pct < 10:\n",
    "                f.write(f\"{count} ({pct:.2f}%)|\")\n",
    "            else:\n",
    "                f.write(f\"{count} ({pct:.1f}%)|\")\n",
    "        f.write(f\"\\n\")\n",
    "        \n",
    "        for party in stats.parties:\n",
    "            total = stats._parties[party]\n",
    "            f.write(f\"|{party}|{total}|\")\n",
    "            for lang in stats.languages:\n",
    "                count = stats.get(party, lang)\n",
    "                pct = 100 * count / total\n",
    "                if count == 0:\n",
    "                    f.write(f\"{count}|\")\n",
    "                elif pct < 10:\n",
    "                    f.write(f\"{count} ({pct:.2f}%)|\")\n",
    "                else:\n",
    "                    f.write(f\"{count} ({pct:.1f}%)|\")\n",
    "            f.write(\"\\n\")\n",
    "            \n",
    "        f.write(\"\\n\")"
   ]
  },
  {
   "cell_type": "code",
   "execution_count": 6,
   "id": "510fb207-57ac-4845-8cb0-deec1db09ddc",
   "metadata": {},
   "outputs": [],
   "source": [
    "constituencies = ylekone.kv25()\n",
    "stats_all = astats(constituencies)\n",
    "stats_ind = {}\n",
    "for constituency in constituencies:\n",
    "    stats_ind[constituency.name] = cstats(constituency)"
   ]
  },
  {
   "cell_type": "code",
   "execution_count": 7,
   "id": "0d124ad4-f849-44f6-8e01-7dce61b723fb",
   "metadata": {},
   "outputs": [],
   "source": [
    "wmd(\"koko maa\", stats_all, \"kielet/kuntavaalit/koko_maa.md\")\n",
    "for k, v in stats_ind.items():\n",
    "    wmd(k, v, f\"kielet/kuntavaalit/{k}.md\")"
   ]
  },
  {
   "cell_type": "code",
   "execution_count": 8,
   "id": "f500e166-bd69-4eb5-89ce-f19e9185d6e4",
   "metadata": {},
   "outputs": [],
   "source": [
    "constituencies = ylekone.av25()\n",
    "stats_all = astats(constituencies)\n",
    "stats_ind = {}\n",
    "for constituency in constituencies:\n",
    "    stats_ind[constituency.name] = cstats(constituency)"
   ]
  },
  {
   "cell_type": "code",
   "execution_count": 9,
   "id": "07435413-688d-41e8-9149-c94ab7611e80",
   "metadata": {},
   "outputs": [],
   "source": [
    "wmd(\"koko maa\", stats_all, \"kielet/aluevaalit/koko_maa.md\")\n",
    "for k, v in stats_ind.items():\n",
    "    wmd(k, v, f\"kielet/aluevaalit/{k}.md\")"
   ]
  },
  {
   "cell_type": "code",
   "execution_count": null,
   "id": "667b6421-5be4-4e9d-835c-7a890fc4e373",
   "metadata": {},
   "outputs": [],
   "source": []
  }
 ],
 "metadata": {
  "kernelspec": {
   "display_name": "Python 3 (ipykernel)",
   "language": "python",
   "name": "python3"
  },
  "language_info": {
   "codemirror_mode": {
    "name": "ipython",
    "version": 3
   },
   "file_extension": ".py",
   "mimetype": "text/x-python",
   "name": "python",
   "nbconvert_exporter": "python",
   "pygments_lexer": "ipython3",
   "version": "3.12.3"
  }
 },
 "nbformat": 4,
 "nbformat_minor": 5
}
