{
 "cells": [
  {
   "cell_type": "code",
   "execution_count": 1,
   "id": "eda732e8-a534-4e15-bf4d-3b4dde8ccd7a",
   "metadata": {},
   "outputs": [],
   "source": [
    "import ylekone"
   ]
  },
  {
   "cell_type": "markdown",
   "id": "f9151cf7-8319-4610-a991-9d7047cef7c9",
   "metadata": {},
   "source": [
    "The data is grouped by constituency (municipality), with the top level object `ylekone.Constituencies`."
   ]
  },
  {
   "cell_type": "code",
   "execution_count": 2,
   "id": "33e5325a-31f6-497f-8904-e9c7b0428b7a",
   "metadata": {},
   "outputs": [],
   "source": [
    "constituencies = ylekone.Constituencies()"
   ]
  },
  {
   "cell_type": "markdown",
   "id": "db7bdd66-dda8-4ea4-a16d-700f6e140174",
   "metadata": {},
   "source": [
    "Information about a specific constituency can be retrieved by the constituency ID or its name in Finnish, using the indexing operator. The constituencies object can also be iterated over. All operations automatically fetch needed JSON files from the public API. Previously fetched files are cached in `.ylekone-cache/`."
   ]
  },
  {
   "cell_type": "code",
   "execution_count": 3,
   "id": "af47cd42-8248-41f8-8204-095f3f0f8f41",
   "metadata": {},
   "outputs": [
    {
     "name": "stdout",
     "output_type": "stream",
     "text": [
      "Constituency(12, Eurajoki)\n",
      "Constituency(25, Helsinki)\n",
      "Constituency(1, Alavieska)\n",
      "Alavieska\n",
      "1\n"
     ]
    }
   ],
   "source": [
    "# Fetch by constituency ID\n",
    "print(constituencies[12])\n",
    "\n",
    "# Fetch by constituency name\n",
    "print(constituencies[\"Helsinki\"])\n",
    "\n",
    "# Iterate\n",
    "for constituency in constituencies:\n",
    "    print(constituency)\n",
    "    print(constituency.name)\n",
    "    print(constituency.id)\n",
    "    break"
   ]
  },
  {
   "cell_type": "markdown",
   "id": "1028a5b8-25fa-4272-a941-73f46199b440",
   "metadata": {},
   "source": [
    "A `Constituency` contains lists of parties, candidates, and questions for that constituency."
   ]
  },
  {
   "cell_type": "code",
   "execution_count": 4,
   "id": "ba9c2347-3654-4ade-b3f7-631ad3405014",
   "metadata": {},
   "outputs": [],
   "source": [
    "helsinki = constituencies[\"Helsinki\"]"
   ]
  },
  {
   "cell_type": "code",
   "execution_count": 5,
   "id": "556570a6-6ae0-4ff8-9b6a-294bdc7ec17c",
   "metadata": {},
   "outputs": [
    {
     "name": "stdout",
     "output_type": "stream",
     "text": [
      "Party(5, Keskusta (Kesk.))\n",
      "Party(6, Vihreät (Vihr.))\n",
      "Party(5, Keskusta (Kesk.))\n",
      "5\n",
      "Keskusta\n",
      "Kesk.\n"
     ]
    }
   ],
   "source": [
    "print(helsinki.parties[\"Kesk.\"])\n",
    "print(helsinki.parties[6])\n",
    "for party in helsinki.parties:\n",
    "    print(party)\n",
    "    print(party.id)\n",
    "    print(party.name)\n",
    "    print(party.abbreviation)\n",
    "    break"
   ]
  },
  {
   "cell_type": "code",
   "execution_count": 6,
   "id": "5cfc5750-7336-4464-890e-d53e9f3251dc",
   "metadata": {},
   "outputs": [
    {
     "name": "stdout",
     "output_type": "stream",
     "text": [
      "Question(83, \"Kuntani tulisi asettaa yläraja peruskoulun opetu...\")\n",
      "Question(83, \"Kuntani tulisi asettaa yläraja peruskoulun opetu...\")\n",
      "83\n",
      "Kuntani tulisi asettaa yläraja peruskoulun opetusryhmien koolle.\n",
      "ONE_TO_FIVE\n"
     ]
    }
   ],
   "source": [
    "print(helsinki.questions[83])\n",
    "for question in helsinki.questions:\n",
    "    print(question)\n",
    "    print(question.id)\n",
    "    print(question.text)\n",
    "    print(question.type)\n",
    "    break"
   ]
  },
  {
   "cell_type": "code",
   "execution_count": 7,
   "id": "1624aba8-7050-4e6c-acb5-4f0b690379ad",
   "metadata": {},
   "outputs": [
    {
     "name": "stdout",
     "output_type": "stream",
     "text": [
      "[Candidate(6467, \"Mari Holopainen\")]\n",
      "Candidate(12816, \"Pasi Tuohimaa\")\n",
      "Candidate(42, \"Annikka Alanko\")\n",
      "42\n",
      "Annikka\n",
      "Alanko\n",
      "Annikka Alanko\n"
     ]
    }
   ],
   "source": [
    "# Candidates can be searched for by name using find()\n",
    "print(helsinki.candidates.find(\"Mari Holopainen\"))\n",
    "print(helsinki.candidates[12816])\n",
    "for candidate in helsinki.candidates:\n",
    "    print(candidate)\n",
    "    print(candidate.id)\n",
    "    print(candidate.first_name)\n",
    "    print(candidate.last_name)\n",
    "    print(candidate.full_name)\n",
    "    break"
   ]
  },
  {
   "cell_type": "markdown",
   "id": "919d3d9f-5fc5-4904-a0dc-6e16c1f3e03d",
   "metadata": {},
   "source": [
    "Candidates contain answers, keyed by the question id."
   ]
  },
  {
   "cell_type": "code",
   "execution_count": 8,
   "id": "1add401e-042e-4c8a-a9ee-28857cdd4be8",
   "metadata": {},
   "outputs": [
    {
     "name": "stdout",
     "output_type": "stream",
     "text": [
      "Answer(6467, 81, 1)\n",
      "Question(81, \"Pienten koulujen lakkauttaminen on perusteltua s...\")\n",
      "1\n",
      "-2\n"
     ]
    }
   ],
   "source": [
    "mari = helsinki.candidates.find(\"Mari Holopainen\")[0]\n",
    "mari.answers[83]\n",
    "for answer in mari.answers:\n",
    "    print(answer)\n",
    "    print(answer.question)\n",
    "    print(answer.value)\n",
    "    print(answer.normalized_value)\n",
    "    break"
   ]
  },
  {
   "cell_type": "markdown",
   "id": "1dbb026b-7298-445a-b32d-9d107bbfd7f4",
   "metadata": {},
   "source": [
    "Responses are encoded with integers 1 to 5 (disagree to agree); the normalized value centers these at zero, yielding integers -2 to +2.\n",
    "\n",
    "You can also collect response statistics per party."
   ]
  },
  {
   "cell_type": "code",
   "execution_count": 9,
   "id": "322088c2-8643-48c9-a8e7-d5234738f3bc",
   "metadata": {},
   "outputs": [
    {
     "name": "stdout",
     "output_type": "stream",
     "text": [
      "Question(81, \"Pienten koulujen lakkauttaminen on perusteltua s...\")\n",
      "Party(19, Kokoomus (Kok.))\n",
      "PartyStats(19, 81, [13, 47, 52, 6])\n",
      "⮇:13  ⭣:47  ⭡:52  ⮅:6   | μ:-0.08 σ:+1.22\n"
     ]
    }
   ],
   "source": [
    "stats = helsinki.stats_by_party()\n",
    "for question, party, stats in stats:\n",
    "    print(question)\n",
    "    print(party)\n",
    "    print(stats)\n",
    "    print(stats.pretty_numbers)\n",
    "    break"
   ]
  },
  {
   "cell_type": "code",
   "execution_count": null,
   "id": "0c1a44da-9f17-4b42-a150-40fe2eeed763",
   "metadata": {},
   "outputs": [],
   "source": []
  }
 ],
 "metadata": {
  "kernelspec": {
   "display_name": "Python 3 (ipykernel)",
   "language": "python",
   "name": "python3"
  },
  "language_info": {
   "codemirror_mode": {
    "name": "ipython",
    "version": 3
   },
   "file_extension": ".py",
   "mimetype": "text/x-python",
   "name": "python",
   "nbconvert_exporter": "python",
   "pygments_lexer": "ipython3",
   "version": "3.12.3"
  }
 },
 "nbformat": 4,
 "nbformat_minor": 5
}
